{
 "cells": [
  {
   "cell_type": "code",
   "execution_count": 16,
   "metadata": {},
   "outputs": [
    {
     "name": "stdout",
     "output_type": "stream",
     "text": [
      "RangeIndex(start=0, stop=12, step=1)\n",
      "RangeIndex(start=0, stop=12, step=1)\n",
      "RangeIndex(start=0, stop=12, step=1)\n",
      "3\n"
     ]
    }
   ],
   "source": [
    "import my_function as fn\n",
    "import boost as bs\n",
    "\n",
    "\n",
    "tickers = [[\"ETCUSDT\"], [\"BTCUSDT\"], [\"XRPUSDT\"]]\n",
    "\n",
    "import concurrent.futures\n",
    "\n",
    "def get_crypto_data():\n",
    "    with concurrent.futures.ThreadPoolExecutor() as executor:\n",
    "        futures = [executor.submit(fn.get_asset_data, ticker, \"4h\", \"8 hours ago UTC+1\") for ticker in tickers]\n",
    "    \n",
    "    results = [future.result() for future in futures]\n",
    "    return results\n",
    "\n",
    "result = get_crypto_data()"
   ]
  },
  {
   "cell_type": "code",
   "execution_count": 24,
   "metadata": {},
   "outputs": [],
   "source": [
    "df=result[1]\n",
    "df.columns=[\"open_time\", \"open\", \"high\", \"low\", \"close\", \"volume\", \"close_time\", \"quote_asset_volume\", \"number_of_trades\", \"taker_buy_base_asset_volume\", \"taker_buy_quote_asset_volume\", \"ignore\"]"
   ]
  },
  {
   "cell_type": "code",
   "execution_count": 25,
   "metadata": {},
   "outputs": [
    {
     "data": {
      "text/plain": [
       "open_time                            1708545600000\n",
       "open                                51057.99000000\n",
       "high                                51297.88000000\n",
       "low                                 50862.50000000\n",
       "close                               51279.93000000\n",
       "volume                               2944.67248000\n",
       "close_time                           1708559999999\n",
       "quote_asset_volume              150321053.38393900\n",
       "number_of_trades                            100386\n",
       "taker_buy_base_asset_volume          1556.98293000\n",
       "taker_buy_quote_asset_volume     79488765.12774890\n",
       "ignore                                           0\n",
       "Name: 5, dtype: object"
      ]
     },
     "execution_count": 25,
     "metadata": {},
     "output_type": "execute_result"
    }
   ],
   "source": [
    "import pandas as pd\n",
    "df.tail()\n",
    "df= df.iloc[-1,:]\n",
    "df"
   ]
  }
 ],
 "metadata": {
  "kernelspec": {
   "display_name": "Python 3",
   "language": "python",
   "name": "python3"
  },
  "language_info": {
   "codemirror_mode": {
    "name": "ipython",
    "version": 3
   },
   "file_extension": ".py",
   "mimetype": "text/x-python",
   "name": "python",
   "nbconvert_exporter": "python",
   "pygments_lexer": "ipython3",
   "version": "3.11.7"
  }
 },
 "nbformat": 4,
 "nbformat_minor": 2
}
